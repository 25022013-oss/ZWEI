{
  "cells": [
    {
      "cell_type": "code",
      "execution_count": 17,
      "metadata": {
        "colab": {
          "base_uri": "https://localhost:8080/"
        },
        "id": "S-bQFHwR8L2U",
        "outputId": "364397af-9831-4be7-c68f-f05a0fab6f69"
      },
      "outputs": [
        {
          "output_type": "stream",
          "name": "stdout",
          "text": [
            "Nhập số nguyên n:1\n",
            "1"
          ]
        }
      ],
      "source": [
        "'''Viết một chương trình nhập vào một số nguyên n và in ra các chữ số đảo ngược nhau.'''\n",
        "\n",
        "p = input(\"Nhập số nguyên n:\")\n",
        "a = list(p)\n",
        "for i in range(len(a)-1,-1,-1):\n",
        "  print(a[i],end=\"\")"
      ]
    },
    {
      "cell_type": "code",
      "execution_count": 20,
      "metadata": {
        "colab": {
          "base_uri": "https://localhost:8080/"
        },
        "id": "N7-1YocN9TH5",
        "outputId": "ceb32544-e483-459d-8c18-a65caa7f5d49"
      },
      "outputs": [
        {
          "output_type": "stream",
          "name": "stdout",
          "text": [
            "Nhập hai số a,b cách nhau bởi dấu cách : 121212 242424\n",
            "242424 , 121212\n"
          ]
        }
      ],
      "source": [
        "'''Hoán đổi hai số không sd biến tạm thời.Sử dụng phép toán XOR bitwise để hoán đổi giá trị của hai biến'''\n",
        "\n",
        "a,b=map(int,input(\"Nhập hai số a,b cách nhau bởi dấu cách : \").split(\" \"))\n",
        "a=a^b\n",
        "b=a^b\n",
        "a=a^b\n",
        "print(a,\",\",b)"
      ]
    },
    {
      "cell_type": "code",
      "execution_count": 22,
      "metadata": {
        "colab": {
          "base_uri": "https://localhost:8080/"
        },
        "id": "vPvR7uOkKK31",
        "outputId": "32a77ca1-a056-41cf-cb7d-6bf0d58e711f"
      },
      "outputs": [
        {
          "output_type": "stream",
          "name": "stdout",
          "text": [
            "Nhập số nguyên n để xem số này có phải lũy thừa của 2 không ( có = true , không = false ) : 4212332\n",
            "False\n"
          ]
        }
      ],
      "source": [
        "'''Kiểm tra ãem một số có phải là lũy thừa của 2 hay không\n",
        "   Sử dụng các toán tử bitwise để xác định xem một số có phải là lũy thừa của 2 hay không\n",
        "   Gợi ý : Đối với lũy thừa của 2,n & (n-1) == 0'''\n",
        "\n",
        "n = int(input(\"Nhập số nguyên n để xem số này có phải lũy thừa của 2 không ( có = true , không = false ) : \"))\n",
        "if n % 2 !=0 :\n",
        "  print(\"False\")\n",
        "elif n % 2 ==0:\n",
        "  while(n>0):\n",
        "    b = n>>1#đã dùng bitwise operator :)))))\n",
        "    n=b\n",
        "    if n % 2 !=0:\n",
        "      break\n",
        "  if n == 1:\n",
        "     print(\"True\")\n",
        "  if n != 1:\n",
        "     print(\"False\")\n"
      ]
    },
    {
      "cell_type": "code",
      "execution_count": 23,
      "metadata": {
        "colab": {
          "base_uri": "https://localhost:8080/"
        },
        "id": "p-FWd2d83K2T",
        "outputId": "ca7b8964-9bbf-4aae-b2a0-2c0b42a62b31"
      },
      "outputs": [
        {
          "output_type": "stream",
          "name": "stdout",
          "text": [
            " Nhập lần lượt hai số  m và n , cách nhau bởi dấu phẩy : -88.34 , 7.3\n",
            "-13\n"
          ]
        }
      ],
      "source": [
        "'''viêt chương trình chia một số m cho n, kết quả thu được làm tròn xuống'''\n",
        "\n",
        "m,n = map(float,input(\" Nhập lần lượt hai số  m và n , cách nhau bởi dấu phẩy : \").split(\",\"))\n",
        "from math import floor\n",
        "if n==0:\n",
        "   print(\"lỗi kĩ thuật\")\n",
        "if m*n>0:\n",
        "   print(floor(m/n))\n",
        "if m*n<0:\n",
        "   print(floor(m/n))\n",
        "if m==0 and n!=0:\n",
        "   print(\"0\")\n",
        "\n"
      ]
    },
    {
      "cell_type": "code",
      "execution_count": null,
      "metadata": {
        "colab": {
          "base_uri": "https://localhost:8080/"
        },
        "id": "_j23GTuT9ciA",
        "outputId": "b4b86251-367f-4a37-dec5-c07d29969e06"
      },
      "outputs": [
        {
          "name": "stdout",
          "output_type": "stream",
          "text": [
            " Nhập lần lượt hai số m và n , cách nhau bởi dấu phẩy : -88.7 , 5.6\n",
            "-16\n"
          ]
        }
      ],
      "source": [
        "'''viêt chương trình chia một số m cho n, kết quả thu được làm tròn lên'''\n",
        "\n",
        "m,n = map(float,input(\" Nhập lần lượt hai số m và n , cách nhau bởi dấu phẩy : \").split(\",\"))\n",
        "from math import ceil\n",
        "if n==0:\n",
        "  print(\"lỗi kĩ thuật\")\n",
        "if m*n>0:\n",
        "  print(ceil(m/n))\n",
        "if m*n<0:\n",
        "  print(ceil(m/n))\n",
        "if m==0 and n!=0:\n",
        "  print(\"0\")"
      ]
    },
    {
      "cell_type": "code",
      "execution_count": null,
      "metadata": {
        "colab": {
          "base_uri": "https://localhost:8080/"
        },
        "id": "GrJ9YqfV-waz",
        "outputId": "75900b2b-4271-4eac-e00f-f6a8dc2115af"
      },
      "outputs": [
        {
          "name": "stdout",
          "output_type": "stream",
          "text": [
            "Nhập số nguyên dương x bất kì : 788\n",
            "Even\n"
          ]
        }
      ],
      "source": [
        "'''[Even and Odd]\n",
        "Nhập vào một số nguyên dương x, bạn hãy kiểm tra xem x là số chẵn hay lẻ. Nếu x là số chẵn, in ra\n",
        "\"Even\". Nếu x là số lẻ, in ra \"Odd\".'''\n",
        "\n",
        "x = int(input(\"Nhập số nguyên dương x bất kì : \"))\n",
        "if x%2==0:\n",
        "  print(\"Even\")\n",
        "if x%2!=0:\n",
        "  print(\"Odd\")\n",
        "\n"
      ]
    },
    {
      "cell_type": "code",
      "execution_count": 24,
      "metadata": {
        "colab": {
          "base_uri": "https://localhost:8080/"
        },
        "id": "zTsl_-pQAGOF",
        "outputId": "ae7592e4-2772-4f0d-dd6d-c665231e49bc"
      },
      "outputs": [
        {
          "output_type": "stream",
          "name": "stdout",
          "text": [
            "Nhập hai số nguyên a và b để xem cả hai có đều là số âm không ( có = Yes , không = No) , cách nhau bởi dấu cách : 0 0\n",
            "No\n"
          ]
        }
      ],
      "source": [
        "'''[Check negative numbers]\n",
        "Nhập vào hai số nguyên a, b. Nếu cả hai số a, b đều âm thì in ra \"Yes\", ngược lại in ra \"No\".'''\n",
        "\n",
        "a,b = map(int,input(\"Nhập hai số nguyên a và b để xem cả hai có đều là số âm không ( có = Yes , không = No) , cách nhau bởi dấu cách : \").split(\" \"))\n",
        "if a*b>0 and a+b<0:\n",
        "  print (\"Yes\")\n",
        "else:\n",
        "  print(\"No\")"
      ]
    },
    {
      "cell_type": "code",
      "execution_count": 27,
      "metadata": {
        "colab": {
          "base_uri": "https://localhost:8080/"
        },
        "id": "VIWBd80fBPM6",
        "outputId": "d569b96b-38ca-4637-c401-e6e984c84f36"
      },
      "outputs": [
        {
          "output_type": "stream",
          "name": "stdout",
          "text": [
            "Nhập string a :dog\n",
            "Nhập string b :mouse\n",
            "False\n"
          ]
        }
      ],
      "source": [
        "'''[Longer string]\n",
        "Nhập vào hai chuỗi a, b gồm các chữ cái thường. In ra \"True\" nếu chuỗi a dài hơn chuỗi b. Ngược\n",
        "lại in ra \"False\".'''\n",
        "\n",
        "a = input(\"Nhập string a :\")\n",
        "b = input(\"Nhập string b :\")\n",
        "if len(a)>len(b):\n",
        "  print(\"True\")\n",
        "else:\n",
        "  print(\"False\")"
      ]
    },
    {
      "cell_type": "code",
      "execution_count": null,
      "metadata": {
        "colab": {
          "base_uri": "https://localhost:8080/"
        },
        "id": "PMUrJJ7_ClIP",
        "outputId": "f91e6080-ee61-49bd-d53c-0599abf92f40"
      },
      "outputs": [
        {
          "name": "stdout",
          "output_type": "stream",
          "text": [
            "Nhập 3 số nguyên dương a,b,c để xem ba số này có tạo được 1 tam giác không ( có = Yes , không = No), các số cách nhau bởi dấu phẩy : 1,2,3\n",
            "No\n"
          ]
        }
      ],
      "source": [
        "'''[Triangle]\n",
        "Nhập vào 3 số nguyên dương a, b, c. Kiểm tra xem a, b, c có cấu thành độ dài cạnh của 1 tam giác\n",
        "được không. Nếu a, b, c cấu tạo thành được một tam giác, in ra \"Yes\". Ngược lại in ra \"No\".'''\n",
        "\n",
        "a,b,c = map(int,input(\"Nhập 3 số nguyên dương a,b,c để xem ba số này có tạo được 1 tam giác không ( có = Yes , không = No), các số cách nhau bởi dấu phẩy : \").split(\",\"))\n",
        "if a+b>c and b+c>a and c+a>b :\n",
        "  print(\"Yes\")\n",
        "else:\n",
        "  print(\"No\")\n"
      ]
    },
    {
      "cell_type": "code",
      "execution_count": 32,
      "metadata": {
        "colab": {
          "base_uri": "https://localhost:8080/"
        },
        "id": "eaJK46MfEDcX",
        "outputId": "1c1775f8-5a73-4a6c-817c-4a7e3b799bc7"
      },
      "outputs": [
        {
          "output_type": "stream",
          "name": "stdout",
          "text": [
            "Nhập 4 số nguyên , các số cách nhau bởi dấu cách : 1000 2000 3123 343\n",
            "3123\n"
          ]
        }
      ],
      "source": [
        "'''[Largest number]\n",
        "Nhập vào 4 số nguyên. In ra màn hình số nguyên lớn nhất trong 4 số.'''\n",
        "\n",
        "a,b,c,d = map(int,input(\"Nhập 4 số nguyên , các số cách nhau bởi dấu cách : \").split(\" \"))\n",
        "ds = [a,b,c,d]\n",
        "max = ds[0]\n",
        "for i in range(1,4,1):\n",
        "  if ds[i]>max:\n",
        "     max = ds[i]\n",
        "print(max)\n",
        "\n"
      ]
    },
    {
      "cell_type": "code",
      "execution_count": 36,
      "metadata": {
        "colab": {
          "base_uri": "https://localhost:8080/"
        },
        "id": "xzyUWSTJPkRx",
        "outputId": "027df411-ad00-4577-8c1d-574f0c272a9d"
      },
      "outputs": [
        {
          "output_type": "stream",
          "name": "stdout",
          "text": [
            "Nhập vào 3 số nguyên dương a,b,c để hệ thống kiểm tra xem có tạo thành một tam giác  , cách nhau bởi dấu cách : 5 6 7\n",
            "Tam giác thường\n"
          ]
        }
      ],
      "source": [
        "'''[Phân loại tam giác]\n",
        "Nhập vào 3 số nguyên dương a,b,c là độ dài 3 cạnh của một tam giác. Kiểm tra 3 số đã nhập có tạo thành\n",
        "một tam giác hợp lệ hay không. Nếu không in ra \"Không phải tam giác\". Nếu có, phân loại tam giác đó là\n",
        "\"Tam giác đều\", \"Tam giác cân\", hay \"Tam giác thường\".'''\n",
        "\n",
        "a,b,c = map(int,input(\"Nhập vào 3 số nguyên dương a,b,c để hệ thống kiểm tra xem có tạo thành một tam giác  , cách nhau bởi dấu cách : \").split(\" \"))\n",
        "if a+b>c and b+c>a and c+a>b:\n",
        "  if a==b!=c or b==c!=a or c==a!=b:\n",
        "    print(\"Tam giác cân\")\n",
        "  if a==b==c:\n",
        "    print(\"Tam giác đều\")\n",
        "  elif a!=b!=c:\n",
        "    print(\"Tam giác thường\")\n",
        "else:\n",
        "    print(\"Không phải tam giác\")"
      ]
    },
    {
      "cell_type": "code",
      "execution_count": null,
      "metadata": {
        "colab": {
          "base_uri": "https://localhost:8080/"
        },
        "id": "asz8hIpCYrGH",
        "outputId": "5f377c78-e73c-4937-9776-f220fb3ef251"
      },
      "outputs": [
        {
          "name": "stdout",
          "output_type": "stream",
          "text": [
            "Nhập năm bất kì để hệ thống kiểm tra xem có phải năm nhuận không :2024\n",
            "Yes\n"
          ]
        }
      ],
      "source": [
        "'''[Kiểm tra năm nhuận]\n",
        "Nhập vào một số nguyên dương n là số năm, kiểm tra xem năm đó có phải là năm nhuận hay không. Năm\n",
        "nhuận là năm chia hết cho 4 nhưng không chia hết cho 100, hoặc chia hết cho 400. Nếu là năm nhuận in ra\n",
        "\"Yes\", nếu không in ra \"No'''\n",
        "\n",
        "n = int(input(\"Nhập năm bất kì để hệ thống kiểm tra xem có phải năm nhuận không :\"))\n",
        "if (n%4==0 and n%100!=0) or n%400==0:\n",
        "  print(\"Yes\")\n",
        "else:\n",
        "  print(\"No\")"
      ]
    },
    {
      "cell_type": "code",
      "execution_count": null,
      "metadata": {
        "colab": {
          "base_uri": "https://localhost:8080/"
        },
        "id": "FJ4w0OMuZx6h",
        "outputId": "c9b67d11-1f59-49ec-8e04-bc6805a75e38"
      },
      "outputs": [
        {
          "name": "stdout",
          "output_type": "stream",
          "text": [
            "Nhập số kWh điện tiêu thụ : 100\n",
            "cái giá phải trả :  175000 đ\n"
          ]
        }
      ],
      "source": [
        "'''[Tính tiền điện]\n",
        "Nhập vào số kWh điện tiêu thụ. Tính tiền điện theo các bậc sau:\n",
        "- 0-50 kWh: 1500đ/kWh\n",
        "- 51-100 kWh: 2000đ/kWh\n",
        "- 100 kWh: 3000đ/kWh'''\n",
        "\n",
        "sodien = int(input(\"Nhập số kWh điện tiêu thụ : \"))\n",
        "if 0<=sodien<=50:\n",
        "   cost=sodien*1500\n",
        "if 51<=sodien<=100:\n",
        "   cost=(sodien - 50)*2000 + 50*1500\n",
        "if 101<=sodien:\n",
        "   cost=(sodien-100)*3000 + 50*2000 + 50*1500\n",
        "print(\"cái giá phải trả : \",cost,\"đ\")"
      ]
    },
    {
      "cell_type": "code",
      "execution_count": null,
      "metadata": {
        "colab": {
          "base_uri": "https://localhost:8080/"
        },
        "id": "WJpfu29TdS4_",
        "outputId": "4b198abc-adab-4344-b191-ab49c8cc759a"
      },
      "outputs": [
        {
          "name": "stdout",
          "output_type": "stream",
          "text": [
            "Nhập a ( trong ax + b = 0) : 0.23\n",
            "Nhập b ( trong ax + b = 0) : 99.1\n",
            "Phương trình : ( 0.23 )x + ( 99.1 ) =0\n",
            "-->x=-430.87\n"
          ]
        }
      ],
      "source": [
        "'''[Giải phương trình bậc nhất]\n",
        "Nhập vào hai số thực a và b của phương trình ax + b = 0. Tìm và in ra nghiệm của phương trình, kết quả\n",
        "làm tròn đến số thập phân thứ 2. In ra \"Vô nghiệm\" hoặc \"Vô số nghiệm\" trong trường hợp tương ứng.'''\n",
        "\n",
        "a=float(input(\"Nhập a ( trong ax + b = 0) : \"))\n",
        "b=float(input(\"Nhập b ( trong ax + b = 0) : \"))\n",
        "print(\"Phương trình : (\",a,\")x + (\",b,\") =0\")\n",
        "if a==0 and b!=0:\n",
        "  print(\"-->Vô nghiệm\")\n",
        "if a==0 and b==0:\n",
        "  print(\"-->Vô số nghiệm\")\n",
        "if a!=0 and b!=0:\n",
        "  no=(-b)/a\n",
        "  print(f\"-->x={no:.2f}\")\n"
      ]
    },
    {
      "cell_type": "code",
      "execution_count": null,
      "metadata": {
        "colab": {
          "base_uri": "https://localhost:8080/"
        },
        "id": "qXusiYAeh2yz",
        "outputId": "7a5f35ce-36ca-42c7-a87a-728478686da7"
      },
      "outputs": [
        {
          "name": "stdout",
          "output_type": "stream",
          "text": [
            "Nhập điểm trung bình : 4.8\n",
            "Học lực : \n",
            "Yếu\n"
          ]
        }
      ],
      "source": [
        "'''[Xếp loại học lực]\n",
        "Nhập vào điểm trung bình của một học sinh và in ra học lực của học sinh đó. Xếp loại học lực theo quy tắc:\n",
        "- >= 8.0: Giỏi\n",
        "- >= 6.5: Khá\n",
        "- >= 5.0: Trung bình\n",
        "- < 5.0: Yếu'''\n",
        "\n",
        "diem = float(input(\"Nhập điểm trung bình : \"))\n",
        "print(\"Học lực : \")\n",
        "if diem < 5.0:\n",
        "   print(\"Yếu\")\n",
        "if 6.5>=diem>=5.0:\n",
        "   print(\"Trung bình\")\n",
        "if 8.0>=diem>=6.5:\n",
        "   print(\"Khá\")\n",
        "if diem >=8.0:\n",
        "   print(\"Giỏi\")\n",
        "\n"
      ]
    },
    {
      "cell_type": "code",
      "execution_count": 12,
      "metadata": {
        "id": "VzlpzI2NjbTV",
        "colab": {
          "base_uri": "https://localhost:8080/"
        },
        "outputId": "20c7563f-f6bd-461b-f45c-da0fd147e82f"
      },
      "outputs": [
        {
          "output_type": "stream",
          "name": "stdout",
          "text": [
            "Nhập 1 số thực : 7.4\n",
            "kết quả làm tròn : 8.0 7.0 7.0\n"
          ]
        }
      ],
      "source": [
        "'''[Rounding]\n",
        "Nhập vào một số thực: in ra kết quả làm tròn lên ,tròn xuống, làm tròn tới số nguyên gần nhất (không được\n",
        "sử dụng hàm sẵn có của python). Các kết quả cách nhau một dấu cách'''\n",
        "\n",
        "thuc = float(input(\"Nhập 1 số thực : \"))\n",
        "def RU(thuc):\n",
        "     nguyen1=thuc//1 #...\n",
        "     if nguyen1-thuc==0:\n",
        "        return nguyen1\n",
        "     else:\n",
        "        kq1=nguyen1+1\n",
        "        return kq1\n",
        "def RD(thuc):\n",
        "     nguyen2=thuc//1\n",
        "     if nguyen2-thuc==0:\n",
        "        return nguyen2\n",
        "     else:\n",
        "        kq2=nguyen2\n",
        "        return kq2\n",
        "def RTTNI(thuc):\n",
        "     nguyen3=thuc//1\n",
        "     if thuc > 0:\n",
        "        if thuc - nguyen3 >=0.5:\n",
        "           kq3=nguyen3 +1\n",
        "        if thuc - nguyen3 <0.5:\n",
        "           kq3=nguyen3\n",
        "     if thuc < 0:\n",
        "        if nguyen3 - thuc>=0.5:\n",
        "           kq3=nguyen3 -1\n",
        "        if nguyen3 - thuc<0.5:\n",
        "           kq3=nguyen3\n",
        "     return kq3\n",
        "print(f'''kết quả làm tròn : {RU(thuc)} {RD(thuc)} {RTTNI(thuc)}''')\n",
        "\n",
        "\n",
        "\n",
        "\n"
      ]
    }
  ],
  "metadata": {
    "colab": {
      "provenance": []
    },
    "kernelspec": {
      "display_name": "Python 3",
      "name": "python3"
    },
    "language_info": {
      "codemirror_mode": {
        "name": "ipython",
        "version": 3
      },
      "file_extension": ".py",
      "mimetype": "text/x-python",
      "name": "python",
      "nbconvert_exporter": "python",
      "pygments_lexer": "ipython3",
      "version": "3.13.7"
    }
  },
  "nbformat": 4,
  "nbformat_minor": 0
}