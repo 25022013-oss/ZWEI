{
  "cells": [
    {
      "cell_type": "code",
      "execution_count": null,
      "metadata": {
        "colab": {
          "base_uri": "https://localhost:8080/"
        },
        "id": "QbipU8rV6_Gx",
        "outputId": "e90d7dea-75bc-4730-b840-617c0f95f240"
      },
      "outputs": [
        {
          "name": "stdout",
          "output_type": "stream",
          "text": [
            "Hello World!\n"
          ]
        }
      ],
      "source": [
        "#W2A1\n",
        "print(\"Hello World!\")"
      ]
    },
    {
      "cell_type": "code",
      "execution_count": null,
      "metadata": {
        "colab": {
          "base_uri": "https://localhost:8080/"
        },
        "id": "Ch8doBUWpJ8-",
        "outputId": "0fa71a2a-7a0d-4d5a-9b10-a9b2978f5e4e"
      },
      "outputs": [
        {
          "name": "stdout",
          "output_type": "stream",
          "text": [
            " nhap ten cua ban: vu\n",
            "xin chao, vu\n"
          ]
        }
      ],
      "source": [
        "#W2A2\n",
        "ten=input( \" nhap ten cua ban: \")\n",
        "print(\"xin chao,\",ten)"
      ]
    },
    {
      "cell_type": "code",
      "execution_count": null,
      "metadata": {
        "colab": {
          "base_uri": "https://localhost:8080/"
        },
        "id": "ws8ac9R8Cmdb",
        "outputId": "7c3ea5cc-6a9c-4495-9d96-05325e277b85"
      },
      "outputs": [
        {
          "name": "stdout",
          "output_type": "stream",
          "text": [
            "Nhập hai số nguyên a và b, cách nhau bởi dấu phẩy : 9723 ,    786\n",
            "tổng :10509\n",
            "hiệu :8937\n",
            "tích :7642278\n",
            "thương :\n",
            "phần nguyên :12\n",
            "phần dư :291\n",
            "kết quả phép chia lấy hai chữ số phần thập phân :12.37\n"
          ]
        }
      ],
      "source": [
        "#W2A3\n",
        "a,b=map(int,input(\"Nhập hai số nguyên a và b, cách nhau bởi dấu phẩy : \").split(\",\"))\n",
        "print(f\"tổng :{a+b}\\nhiệu :{a-b}\\ntích :{a*b}\\nthương :\\nphần nguyên :{a//b}\\nphần dư :{a%b}\\nkết quả phép chia lấy hai chữ số phần thập phân :{a/b:.2f}\" )"
      ]
    },
    {
      "cell_type": "code",
      "execution_count": null,
      "metadata": {
        "colab": {
          "base_uri": "https://localhost:8080/"
        },
        "id": "FoppG3d0NdfK",
        "outputId": "d9ad8ff7-a0a0-46b2-a6a8-e6de2061a231"
      },
      "outputs": [
        {
          "name": "stdout",
          "output_type": "stream",
          "text": [
            "Nhập điểm , cách nhau bởi dấu cách : 7 8 3 4 5 2 \n",
            "Điểm trung bình của học sinh này : 4.2\n"
          ]
        }
      ],
      "source": [
        "#W2A4\n",
        "a1,b1,c1,a2,b2,a3=map(int,input(\"Nhập điểm , cách nhau bởi dấu cách : \").split())\n",
        "TB=((a1+b1+c1)+(a2+b2)*2+a3*3)/10\n",
        "print(\"Điểm trung bình của học sinh này :\",TB)"
      ]
    },
    {
      "cell_type": "code",
      "execution_count": null,
      "metadata": {
        "colab": {
          "base_uri": "https://localhost:8080/"
        },
        "id": "-AgyUj3cRRlx",
        "outputId": "ed10c25d-91d9-42f9-aed3-19a5764d10c0"
      },
      "outputs": [
        {
          "name": "stdout",
          "output_type": "stream",
          "text": [
            "Nhập hai số a,b :3 5\n",
            "Ta có a mũ b bằng : 243\n"
          ]
        }
      ],
      "source": [
        "#W2A5\n",
        "a,b=map(int,input(\"Nhập hai số a,b :\").split())\n",
        "kq=a**b\n",
        "print(\"Ta có a mũ b bằng :\",kq)"
      ]
    },
    {
      "cell_type": "code",
      "execution_count": null,
      "metadata": {
        "colab": {
          "base_uri": "https://localhost:8080/"
        },
        "id": "KT-LIbKhSg6S",
        "outputId": "8c72484e-ddfe-4d0c-e369-33eb53848eb2"
      },
      "outputs": [
        {
          "name": "stdout",
          "output_type": "stream",
          "text": [
            "Nhập 1 chữ cái từ a-z :m\n",
            "Mã Unicode : 109\n",
            "Kí tự hoa : M\n"
          ]
        }
      ],
      "source": [
        "#W2A6\n",
        "a=input(\"Nhập 1 chữ cái từ a-z :\")\n",
        "s=ord(a)\n",
        "k=a.upper()\n",
        "print(\"Mã Unicode :\",s)\n",
        "print(\"Kí tự hoa :\",k)"
      ]
    },
    {
      "cell_type": "code",
      "execution_count": null,
      "metadata": {
        "colab": {
          "base_uri": "https://localhost:8080/"
        },
        "id": "H9nKR1BfW8rF",
        "outputId": "79e9febb-da0f-4ebf-df0c-b8473f83f8f8"
      },
      "outputs": [
        {
          "name": "stdout",
          "output_type": "stream",
          "text": [
            "A = 512 \n",
            "B = 512\n"
          ]
        }
      ],
      "source": [
        "#W2A7\n",
        "A=((13**2)*3)+5\n",
        "B=13**2*3+5\n",
        "print(\"A =\",A,\"\\nB =\",B)"
      ]
    },
    {
      "cell_type": "code",
      "execution_count": null,
      "metadata": {
        "colab": {
          "base_uri": "https://localhost:8080/"
        },
        "id": "8-LX4kCdYWH-",
        "outputId": "d282026c-5597-46f9-e1e1-8ed468256872"
      },
      "outputs": [
        {
          "name": "stdout",
          "output_type": "stream",
          "text": [
            "Nhập nhiệt độ theo thang Celcius :6876.214434\n",
            "Nhiệt độ theo thang Fahrenheit tương ứng : 12409.2\n"
          ]
        }
      ],
      "source": [
        "#W2A8\n",
        "c=float(input(\"Nhập nhiệt độ theo thang Celcius :\"))\n",
        "F=(9/5)*c+32\n",
        "print(f\"Nhiệt độ theo thang Fahrenheit tương ứng : {F:.1f}\")"
      ]
    },
    {
      "cell_type": "code",
      "execution_count": null,
      "metadata": {
        "colab": {
          "base_uri": "https://localhost:8080/"
        },
        "id": "DS6E7tBBeP8f",
        "outputId": "7a08b7f9-af69-4f12-a879-38db51999fed"
      },
      "outputs": [
        {
          "name": "stdout",
          "output_type": "stream",
          "text": [
            "Giá đồng hồ :75333.34\n",
            "Tổng số tiền Sơn Tùng phải trả : 107726.68\n"
          ]
        }
      ],
      "source": [
        "#W2A9\n",
        "x=float(input('Giá đồng hồ :'))\n",
        "cost=x*1.1*1.3\n",
        "print(f\"Tổng số tiền Sơn Tùng phải trả : {cost:.2f}\")"
      ]
    },
    {
      "cell_type": "code",
      "execution_count": null,
      "metadata": {
        "colab": {
          "base_uri": "https://localhost:8080/"
        },
        "id": "pF1pq7LAqc8Q",
        "outputId": "222229a7-142c-40db-ebfd-63bdfb6cb0ce"
      },
      "outputs": [
        {
          "name": "stdout",
          "output_type": "stream",
          "text": [
            "friends :rin , lau , mac\n",
            "chào   mac ,  lau  , rin \n"
          ]
        }
      ],
      "source": [
        "#W2A10\n",
        "a=input(\"friends :\").split(\",\")\n",
        "g,h,i=a\n",
        "print(\"chào \",i,\",\",h,\",\",g)"
      ]
    },
    {
      "cell_type": "code",
      "execution_count": null,
      "metadata": {
        "colab": {
          "base_uri": "https://localhost:8080/"
        },
        "id": "xo6h-geOhqJ-",
        "outputId": "116d78a6-bbcf-4c22-d575-8325e3e9a354"
      },
      "outputs": [
        {
          "name": "stdout",
          "output_type": "stream",
          "text": [
            "Giờ :7\n",
            "Phút :50\n",
            "7.0 giờ 50.0 phút ---> 28200.0 giây\n"
          ]
        }
      ],
      "source": [
        "#W2A11\n",
        "h=float(input('Giờ :'))\n",
        "m=float(input('Phút :'))\n",
        "s=h*3600+m*60\n",
        "print(f\"{h} giờ {m} phút ---> {s} giây\")"
      ]
    },
    {
      "cell_type": "code",
      "execution_count": null,
      "metadata": {
        "colab": {
          "base_uri": "https://localhost:8080/"
        },
        "id": "J9SorugKsSVC",
        "outputId": "e398d1c7-2ef5-47c2-92a3-0f753e2f9765"
      },
      "outputs": [
        {
          "name": "stdout",
          "output_type": "stream",
          "text": [
            "Độ dài cạnh khối Rubik :7\n",
            "---> Số miếng dán riêng lẻ cần dùng : 294\n"
          ]
        }
      ],
      "source": [
        "#W2A12\n",
        "n=int(input(\"Độ dài cạnh khối Rubik :\"))\n",
        "p=(n**2)*6\n",
        "print(\"---> Số miếng dán riêng lẻ cần dùng :\",p)"
      ]
    },
    {
      "cell_type": "code",
      "execution_count": null,
      "metadata": {
        "colab": {
          "base_uri": "https://localhost:8080/"
        },
        "id": "S4ijKZTLtlWN",
        "outputId": "a47b2f96-d34b-4368-d0ba-3b6cf69bb50c"
      },
      "outputs": [
        {
          "name": "stdout",
          "output_type": "stream",
          "text": [
            "Nhập hai số nguyên dương , cách nhau bởi dấu phẩy :3673 , 234734724\n",
            "Hàng đơn vị của tích hai số : 2\n"
          ]
        }
      ],
      "source": [
        "#W2A13\n",
        "a,b=map(int,input(\"Nhập hai số nguyên dương , cách nhau bởi dấu phẩy :\").split(\",\"))\n",
        "p=str(a*b)\n",
        "o=list(p)\n",
        "h=len(o)\n",
        "print(\"Hàng đơn vị của tích hai số :\",o[h-1])\n"
      ]
    },
    {
      "cell_type": "code",
      "execution_count": null,
      "metadata": {
        "colab": {
          "base_uri": "https://localhost:8080/"
        },
        "id": "2evxhW5r3Ai2",
        "outputId": "e33fb574-3147-4b71-c3c1-2aa13df0ab25"
      },
      "outputs": [
        {
          "name": "stdout",
          "output_type": "stream",
          "text": [
            "Nhập a :3247 \n",
            "Nhập b :24324244\n",
            "hoán đổi:\n",
            "a =  24324244 , b =  3247 \n"
          ]
        }
      ],
      "source": [
        "#W2A14\n",
        "a=input(\"Nhập a :\")\n",
        "b=input(\"Nhập b :\")\n",
        "a,b=b,a\n",
        "print(\"hoán đổi:\\na = \",a,\", b = \",b)\n"
      ]
    },
    {
      "cell_type": "code",
      "execution_count": 1,
      "metadata": {
        "colab": {
          "base_uri": "https://localhost:8080/"
        },
        "id": "KMf11B4ZAHkh",
        "outputId": "8adcf983-13ef-477f-a36a-e78ff179132c"
      },
      "outputs": [
        {
          "name": "stdout",
          "output_type": "stream",
          "text": [
            "             *     \n",
            "\n",
            "           *   *     \n",
            "\n",
            " *   *   *   *   *   *   *     \n",
            "\n",
            "   *   *   *   *   *   *     \n",
            "\n",
            "     *   *   *   *   *     \n",
            "\n",
            "   *   *   *   *   *   *     \n",
            "\n",
            " *   *   *   *   *   *   *     \n",
            "\n",
            "           *   *     \n",
            "\n",
            "             *     \n",
            "\n"
          ]
        }
      ],
      "source": [
        "#W2A15\n",
        "n=int(input(\"Nhập n :\"))\n",
        "k=6 + (n-2)*6\n",
        "l=0\n",
        "o=2*(n-1)-2\n",
        "m=6+(n-2)*4\n",
        "if n == 1 :\n",
        "  print(\"*\")\n",
        "elif n > 1:\n",
        "  for i in range(1,n,1):\n",
        "   print(k*\" \",i*\"*   \",\" \\n\")\n",
        "   k=k-2\n",
        "  for i in range(3*n-2,2*n-2,-1):\n",
        "   print(l*\" \",i*\"*   \",\" \\n\")\n",
        "   l=l+2\n",
        "  for i in range(2*n,3*n-1,1):\n",
        "   print(o*\" \",i*\"*   \",\" \\n\")\n",
        "   o=o-2\n",
        "  for i in range(n-1,0,-1):\n",
        "   print(m*\" \",i*\"*   \",\" \\n\")\n",
        "   m=m+2"
      ]
    },
    {
      "cell_type": "code",
      "execution_count": null,
      "metadata": {
        "colab": {
          "base_uri": "https://localhost:8080/"
        },
        "id": "EVj5-zjIr9H_",
        "outputId": "8eea368c-1f2b-42f0-c270-cda5501a6860"
      },
      "outputs": [
        {
          "name": "stdout",
          "output_type": "stream",
          "text": [
            "Spring\n",
            "Summer\n",
            "Autumn\n",
            "Winter\n"
          ]
        }
      ],
      "source": [
        "#W2A16\n",
        "print(\"Spring\\n\"\"Summer\\n\"\"Autumn\\n\"\"Winter\")"
      ]
    },
    {
      "cell_type": "code",
      "execution_count": null,
      "metadata": {
        "colab": {
          "base_uri": "https://localhost:8080/"
        },
        "id": "_ZNdKJlwsyXU",
        "outputId": "ab5ee93c-52e4-4342-8866-d5531208887f"
      },
      "outputs": [
        {
          "name": "stdout",
          "output_type": "stream",
          "text": [
            "*\n",
            "***\n",
            "*****\n"
          ]
        }
      ],
      "source": [
        "#W2A17\n",
        "for i in range(6):\n",
        "    if i%2!=0:\n",
        "      print(i*\"*\")\n"
      ]
    },
    {
      "cell_type": "code",
      "execution_count": null,
      "metadata": {
        "colab": {
          "base_uri": "https://localhost:8080/"
        },
        "id": "TIEWFlmmtW1N",
        "outputId": "6e7e6aee-6bbc-4167-9299-72684ca1cb00"
      },
      "outputs": [
        {
          "name": "stdout",
          "output_type": "stream",
          "text": [
            "###   ##   ###  ###\n",
            " #    # #   #    #\n",
            " #    #  #  #    #\n",
            " #    # #   #    #\n",
            " #    ##    #    #\n"
          ]
        }
      ],
      "source": [
        "#W2A18\n",
        "print(\"###   ##   ###  ###\")\n",
        "print(\" #    # #   #    #\")\n",
        "print(\" #    #  #  #    #\")\n",
        "print(\" #    # #   #    #\")\n",
        "print(\" #    ##    #    #\")"
      ]
    },
    {
      "cell_type": "code",
      "execution_count": null,
      "metadata": {
        "colab": {
          "base_uri": "https://localhost:8080/"
        },
        "id": "PQyDBK5dvF53",
        "outputId": "09d17ce8-92f6-4d80-ec2a-481be2f57702"
      },
      "outputs": [
        {
          "name": "stdout",
          "output_type": "stream",
          "text": [
            "Monday\n",
            "Tuesday\n",
            "Wednesday\n",
            "Thursday\n",
            "Friday\n",
            "Saturday\n",
            "Sunday\n"
          ]
        }
      ],
      "source": [
        "#W2A19\n",
        "print(\"Monday\\nTuesday\\nWednesday\\nThursday\\nFriday\\nSaturday\\nSunday\")"
      ]
    },
    {
      "cell_type": "code",
      "execution_count": null,
      "metadata": {
        "colab": {
          "base_uri": "https://localhost:8080/"
        },
        "id": "RSvLbwYwwjCo",
        "outputId": "b09c4759-77ea-4824-dfd5-b93ced96a70e"
      },
      "outputs": [
        {
          "name": "stdout",
          "output_type": "stream",
          "text": [
            "January\n",
            "February\n",
            "March\n",
            "April\n",
            "May\n",
            "June\n",
            "July\n",
            "August\n",
            "September\n",
            "October\n",
            "November\n",
            "December\n"
          ]
        }
      ],
      "source": [
        "#W2A20\n",
        "a = (\"January\",\"February\",\"March\",\"April\",\"May\",\"June\",\"July\",\"August\",\"September\",\"October\",\"November\",\"December\")\n",
        "for i in a:\n",
        "  print(i)"
      ]
    },
    {
      "cell_type": "code",
      "execution_count": null,
      "metadata": {
        "colab": {
          "base_uri": "https://localhost:8080/"
        },
        "id": "FIZz1vI3xEBW",
        "outputId": "1151e88b-60c7-43f7-f7cc-6c37de4bef0d"
      },
      "outputs": [
        {
          "name": "stdout",
          "output_type": "stream",
          "text": [
            "Hello,World\n",
            "Hello,World\n",
            "Hello,World\n",
            "Hello,World\n",
            "Hello,World\n",
            "Hello,World\n",
            "Hello,World\n",
            "Hello,World\n",
            "Hello,World\n",
            "Hello,World\n"
          ]
        }
      ],
      "source": [
        "#W2A21\n",
        "for i in range(0,10,1): #(start stop step)\n",
        "  print(\"Hello,World\")"
      ]
    }
  ],
  "metadata": {
    "colab": {
      "provenance": []
    },
    "kernelspec": {
      "display_name": "Python 3",
      "name": "python3"
    },
    "language_info": {
      "codemirror_mode": {
        "name": "ipython",
        "version": 3
      },
      "file_extension": ".py",
      "mimetype": "text/x-python",
      "name": "python",
      "nbconvert_exporter": "python",
      "pygments_lexer": "ipython3",
      "version": "3.13.7"
    }
  },
  "nbformat": 4,
  "nbformat_minor": 0
}
